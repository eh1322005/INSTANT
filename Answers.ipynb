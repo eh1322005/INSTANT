{
  "nbformat": 4,
  "nbformat_minor": 0,
  "metadata": {
    "colab": {
      "provenance": [],
      "authorship_tag": "ABX9TyNUCBzZFu1aGVhCLavQ7kTp",
      "include_colab_link": true
    },
    "kernelspec": {
      "name": "python3",
      "display_name": "Python 3"
    },
    "language_info": {
      "name": "python"
    }
  },
  "cells": [
    {
      "cell_type": "markdown",
      "metadata": {
        "id": "view-in-github",
        "colab_type": "text"
      },
      "source": [
        "<a href=\"https://colab.research.google.com/github/eh1322005/Python-problem_solving/blob/main/Answers.ipynb\" target=\"_parent\"><img src=\"https://colab.research.google.com/assets/colab-badge.svg\" alt=\"Open In Colab\"/></a>"
      ]
    },
    {
      "cell_type": "markdown",
      "source": [
        "Strings:"
      ],
      "metadata": {
        "id": "3MYUrk8_cJ4A"
      }
    },
    {
      "cell_type": "code",
      "source": [],
      "metadata": {
        "id": "rIfHCZtFzBL-"
      },
      "execution_count": null,
      "outputs": []
    },
    {
      "cell_type": "code",
      "execution_count": null,
      "metadata": {
        "colab": {
          "base_uri": "https://localhost:8080/"
        },
        "id": "R7rLiFqZPLHb",
        "outputId": "d3c1f438-5e27-4ab6-d13e-0896339569db"
      },
      "outputs": [
        {
          "output_type": "stream",
          "name": "stdout",
          "text": [
            "ali\n",
            "3\n"
          ]
        }
      ],
      "source": [
        "#1:\n",
        "n=input()\n",
        "print(len(n))\n"
      ]
    },
    {
      "cell_type": "code",
      "source": [
        "#1:\n",
        "#another way:\n",
        "text=input()\n",
        "count = 0\n",
        "for letter in text:\n",
        "    count += 1\n",
        "print(\"Length using loop:\", count)"
      ],
      "metadata": {
        "colab": {
          "base_uri": "https://localhost:8080/"
        },
        "id": "ZNkomonkPzBm",
        "outputId": "e9386656-9356-46dd-e3a0-05e10b20cbd6"
      },
      "execution_count": null,
      "outputs": [
        {
          "output_type": "stream",
          "name": "stdout",
          "text": [
            "ali\n",
            "Length using loop: 3\n"
          ]
        }
      ]
    },
    {
      "cell_type": "code",
      "source": [
        "#2:\n",
        "n=input()\n",
        "if len(n)>2:\n",
        "  print(n[:2] + n[-2:])\n",
        "else:\n",
        "  print(\"\")"
      ],
      "metadata": {
        "colab": {
          "base_uri": "https://localhost:8080/"
        },
        "id": "mEoTChH2R1fB",
        "outputId": "08c19455-2d99-4198-eb29-2a0effbe9c26"
      },
      "execution_count": null,
      "outputs": [
        {
          "output_type": "stream",
          "name": "stdout",
          "text": [
            "ahmed\n",
            "ahed\n"
          ]
        }
      ]
    },
    {
      "cell_type": "code",
      "source": [
        "#3:\n",
        "n=input()\n",
        "if len(n)>=3:\n",
        "  if n[-3:]==\"ing\":\n",
        "    print(n+\"ly\")\n",
        "  else:\n",
        "    print(n+\"ing\")\n",
        "else:\n",
        "  print(\"leave it unchanged\")"
      ],
      "metadata": {
        "colab": {
          "base_uri": "https://localhost:8080/"
        },
        "id": "Ms7iXh9LT9lp",
        "outputId": "4cefdc1c-4b05-417b-bc6a-ac6b302e2350"
      },
      "execution_count": null,
      "outputs": [
        {
          "output_type": "stream",
          "name": "stdout",
          "text": [
            "sring\n",
            "sringly\n"
          ]
        }
      ]
    },
    {
      "cell_type": "code",
      "source": [
        "#4:\n",
        "n=['ali','ahmed','o']\n",
        "longest=max(n,key=len)\n",
        "print(\"longest word:\",longest)\n",
        "print(\"length of longest word:\",len(longest))\n"
      ],
      "metadata": {
        "colab": {
          "base_uri": "https://localhost:8080/"
        },
        "id": "CRJletocWL-A",
        "outputId": "6080b713-7c81-4fca-816c-ecbf4c2bf952"
      },
      "execution_count": null,
      "outputs": [
        {
          "output_type": "stream",
          "name": "stdout",
          "text": [
            "longest word: ahmed\n",
            "length of longest word: 5\n"
          ]
        }
      ]
    },
    {
      "cell_type": "code",
      "source": [
        "#5:/\n",
        "text = \"abdelrahman\"\n",
        "first = text[0]\n",
        "last = text[-1]\n",
        "middle = text[1:-1]\n",
        "print(last + middle + first)\n"
      ],
      "metadata": {
        "colab": {
          "base_uri": "https://localhost:8080/"
        },
        "id": "EbTk1o_CZpqs",
        "outputId": "431f135f-97db-427c-c6c1-ee86df4ac80f"
      },
      "execution_count": null,
      "outputs": [
        {
          "output_type": "stream",
          "name": "stdout",
          "text": [
            "nbdelrahmaa\n"
          ]
        }
      ]
    },
    {
      "cell_type": "code",
      "source": [
        "#6:/\n",
        "text = \"abcdefg\"\n",
        "print(text[::2])"
      ],
      "metadata": {
        "colab": {
          "base_uri": "https://localhost:8080/"
        },
        "id": "K1sbnkGaciQ_",
        "outputId": "0e9fd791-f990-4b9b-c360-2ad916fa7874"
      },
      "execution_count": null,
      "outputs": [
        {
          "output_type": "stream",
          "name": "stdout",
          "text": [
            "aceg\n"
          ]
        }
      ]
    },
    {
      "cell_type": "code",
      "source": [
        "#7 :     \"important\"\n",
        "#split function(\"from sentance to words\")\n",
        "\n",
        "\n",
        "sentance=\"amr and ahmed are frindes but amr is the tallest Expected Result)\"\n",
        "words=sentance.split()\n",
        "for word in words:\n",
        "  print(f\"{word} occures {words.count(word)} times\")\n"
      ],
      "metadata": {
        "colab": {
          "base_uri": "https://localhost:8080/"
        },
        "id": "DUlNEHXnhE15",
        "outputId": "5bdd97de-13cc-4c0f-faf6-c6b07f671ac6"
      },
      "execution_count": null,
      "outputs": [
        {
          "output_type": "stream",
          "name": "stdout",
          "text": [
            "amr occures 2 times\n",
            "and occures 1 times\n",
            "ahmed occures 1 times\n",
            "are occures 1 times\n",
            "frindes occures 1 times\n",
            "but occures 1 times\n",
            "amr occures 2 times\n",
            "is occures 1 times\n",
            "the occures 1 times\n",
            "tallest occures 1 times\n",
            "Expected occures 1 times\n",
            "Result) occures 1 times\n"
          ]
        }
      ]
    },
    {
      "cell_type": "markdown",
      "source": [
        "Basics:"
      ],
      "metadata": {
        "id": "rgb5NvlDkzaw"
      }
    },
    {
      "cell_type": "code",
      "source": [
        "#8:\n",
        "n=input()\n",
        "print(n.upper())\n",
        "print(n.lower())"
      ],
      "metadata": {
        "colab": {
          "base_uri": "https://localhost:8080/"
        },
        "id": "-IYksXcZkm2e",
        "outputId": "f716adee-ffc4-40f3-d942-21cd70177898"
      },
      "execution_count": null,
      "outputs": [
        {
          "output_type": "stream",
          "name": "stdout",
          "text": [
            "ali\n",
            "ALI\n",
            "ali\n"
          ]
        }
      ]
    },
    {
      "cell_type": "code",
      "source": [
        "#9:\n",
        "string=input()\n",
        "if len(string)%4==0:\n",
        "  print(string[::-1])\n",
        "else:\n",
        "  print(string)"
      ],
      "metadata": {
        "colab": {
          "base_uri": "https://localhost:8080/"
        },
        "id": "O-oQvTX-lNG8",
        "outputId": "2f2d7e59-b2c3-4433-c803-6ce5f545d6a7"
      },
      "execution_count": null,
      "outputs": [
        {
          "output_type": "stream",
          "name": "stdout",
          "text": [
            "omar\n",
            "ramo\n"
          ]
        }
      ]
    },
    {
      "cell_type": "code",
      "source": [
        "#10:///\n",
        "text = \"Hello World\\n\"\n",
        "print(text.replace(\"\\n\", \"\"))"
      ],
      "metadata": {
        "colab": {
          "base_uri": "https://localhost:8080/"
        },
        "id": "67zTHyRTlti9",
        "outputId": "4de7ca3e-2db5-4218-ec95-e8b85184a906"
      },
      "execution_count": null,
      "outputs": [
        {
          "output_type": "stream",
          "name": "stdout",
          "text": [
            "Hello World\n"
          ]
        }
      ]
    },
    {
      "cell_type": "code",
      "source": [
        "#11:\n",
        "text = \"Hello World\"\n",
        "if text[:5] == \"Hello\":\n",
        "    print(\"Yes\")\n",
        "else:\n",
        "    print(\"No\")"
      ],
      "metadata": {
        "colab": {
          "base_uri": "https://localhost:8080/"
        },
        "id": "hE473dKFmizy",
        "outputId": "89858e9d-341b-4c74-951d-ae55a4a89b71"
      },
      "execution_count": null,
      "outputs": [
        {
          "output_type": "stream",
          "name": "stdout",
          "text": [
            "Yes\n"
          ]
        }
      ]
    },
    {
      "cell_type": "code",
      "source": [
        "#16:\n",
        "s=input()\n",
        "print(s[::-1])"
      ],
      "metadata": {
        "colab": {
          "base_uri": "https://localhost:8080/"
        },
        "id": "477_KeRknlIR",
        "outputId": "a3489a3c-cddc-4209-8f67-fdeb2035eb3f"
      },
      "execution_count": null,
      "outputs": [
        {
          "output_type": "stream",
          "name": "stdout",
          "text": [
            "amr\n",
            "rma\n"
          ]
        }
      ]
    },
    {
      "cell_type": "code",
      "source": [
        "#16:  \"another way\"\n",
        "text = \"hello\"\n",
        "reversed_text = ''.join(reversed(text))\n",
        "print(reversed_text)"
      ],
      "metadata": {
        "colab": {
          "base_uri": "https://localhost:8080/"
        },
        "id": "o-90WEjup1XF",
        "outputId": "51d3c193-e2aa-46b7-a810-948ca1a395bd"
      },
      "execution_count": null,
      "outputs": [
        {
          "output_type": "stream",
          "name": "stdout",
          "text": [
            "olleh\n"
          ]
        }
      ]
    },
    {
      "cell_type": "code",
      "source": [
        "#17:\n"
      ],
      "metadata": {
        "id": "njuXAghSuJ0_"
      },
      "execution_count": null,
      "outputs": []
    },
    {
      "cell_type": "code",
      "source": [
        "#18:\n"
      ],
      "metadata": {
        "id": "tR0Q2pJ3vh2S"
      },
      "execution_count": null,
      "outputs": []
    },
    {
      "cell_type": "code",
      "source": [
        "#19:\n",
        "text = \"Eslam Hassan\"\n",
        "print(text.replace(\" \", \"\"))"
      ],
      "metadata": {
        "colab": {
          "base_uri": "https://localhost:8080/"
        },
        "id": "C5NT3I0Jv0ue",
        "outputId": "1ccccf9a-f845-49d1-e41f-e0b3d682408f"
      },
      "execution_count": null,
      "outputs": [
        {
          "output_type": "stream",
          "name": "stdout",
          "text": [
            "EslamHassan\n"
          ]
        }
      ]
    },
    {
      "cell_type": "code",
      "source": [
        "#20: \" rule of Non-empty substring \"   important\n",
        "\n",
        "\n",
        "text = \"omar\"\n",
        "x= len(text)\n",
        "substrings_count = ( x* (x+ 1)) // 2\n",
        "print(f\"Number of non-empty substrings: {substrings_count}\")"
      ],
      "metadata": {
        "colab": {
          "base_uri": "https://localhost:8080/"
        },
        "id": "Jk6veAZZxD7x",
        "outputId": "912de95b-406b-4613-8c42-7c1da8b85e20"
      },
      "execution_count": null,
      "outputs": [
        {
          "output_type": "stream",
          "name": "stdout",
          "text": [
            "Number of non-empty substrings: 10\n"
          ]
        }
      ]
    },
    {
      "cell_type": "code",
      "source": [
        "#21:\n",
        "\n",
        "list=[\"ali\",\"ahmed\",\"amr\"]\n",
        "list[0],list[-1]=list[-1],list[0]\n",
        "print(list)"
      ],
      "metadata": {
        "colab": {
          "base_uri": "https://localhost:8080/"
        },
        "id": "PmTvbPtQyOtJ",
        "outputId": "63d3c5cf-3021-4693-8daa-4358660d2446"
      },
      "execution_count": null,
      "outputs": [
        {
          "output_type": "stream",
          "name": "stdout",
          "text": [
            "['amr', 'ahmed', 'ali']\n"
          ]
        }
      ]
    },
    {
      "cell_type": "code",
      "source": [
        "#22://\"swap'important'\"\n",
        "\n",
        "my_list = [23, 65, 19, 90]\n",
        "pos1 = 1\n",
        "pos2 = 3\n",
        "\n",
        "my_list[pos1], my_list[pos2] = my_list[pos2], my_list[pos1]\n",
        "\n",
        "print(my_list)\n",
        "\n"
      ],
      "metadata": {
        "colab": {
          "base_uri": "https://localhost:8080/"
        },
        "id": "SzocBdqhzk0K",
        "outputId": "d0f4907d-62ec-4dcc-a624-f78f20d96338"
      },
      "execution_count": null,
      "outputs": [
        {
          "output_type": "stream",
          "name": "stdout",
          "text": [
            "[23, 90, 19, 65]\n"
          ]
        }
      ]
    },
    {
      "cell_type": "code",
      "source": [
        "#23:\"search\"\n",
        "\n",
        "\n",
        "\n",
        "#Use len(): For most cases, len() is the preferred method due to its simplicity and efficiency.\n",
        "#Use for loop: When you need to manually count elements, especially in educational contexts.\n",
        "#Use sum(): For a functional programming approach to counting elements\n",
        "#Use length_hint(): When dealing with iterators and needing an estimated length.\n",
        "#Use NumPy's size: When working with NumPy array\n"
      ],
      "metadata": {
        "id": "-GifFrtY1PiN"
      },
      "execution_count": null,
      "outputs": []
    },
    {
      "cell_type": "markdown",
      "source": [
        "List:"
      ],
      "metadata": {
        "id": "L4TM0Bi44Ajn"
      }
    },
    {
      "cell_type": "code",
      "source": [
        "#24:\n",
        "list=[2,3,5,7,9]\n",
        "max_value=max(list)\n",
        "print(max_value)"
      ],
      "metadata": {
        "colab": {
          "base_uri": "https://localhost:8080/"
        },
        "id": "oaiigtnU3PtL",
        "outputId": "7c4efd2f-c028-4525-c72b-61ad810a3a8f"
      },
      "execution_count": null,
      "outputs": [
        {
          "output_type": "stream",
          "name": "stdout",
          "text": [
            "9\n"
          ]
        }
      ]
    },
    {
      "cell_type": "code",
      "source": [
        "#25:\n",
        "list=[2,3,5,7,9]\n",
        "min_value=min(list)\n",
        "print(min_value)"
      ],
      "metadata": {
        "colab": {
          "base_uri": "https://localhost:8080/"
        },
        "id": "LzSZFL2P4FTU",
        "outputId": "9cc5968b-314a-423a-fd71-f626299613e8"
      },
      "execution_count": null,
      "outputs": [
        {
          "output_type": "stream",
          "name": "stdout",
          "text": [
            "2\n"
          ]
        }
      ]
    },
    {
      "cell_type": "code",
      "source": [
        "#26:\n",
        "list=[2,3,5,7,9]\n",
        "if 2 in list:\n",
        "  print(\"yes\")\n",
        "else:\n",
        "  print(\"no\")"
      ],
      "metadata": {
        "colab": {
          "base_uri": "https://localhost:8080/"
        },
        "id": "BsDL3xY74QuH",
        "outputId": "705cb786-c2df-4738-c051-00a3e17323b5"
      },
      "execution_count": null,
      "outputs": [
        {
          "output_type": "stream",
          "name": "stdout",
          "text": [
            "yes\n"
          ]
        }
      ]
    },
    {
      "cell_type": "code",
      "source": [
        "#27:\n",
        "list=[2,3,5,7,9]\n",
        "list.clear()\n",
        "print(list)\n"
      ],
      "metadata": {
        "colab": {
          "base_uri": "https://localhost:8080/"
        },
        "id": "7kN7wa3L4qJC",
        "outputId": "e287cd27-b3a7-41b8-cbc8-c6fe6fb7673f"
      },
      "execution_count": null,
      "outputs": [
        {
          "output_type": "stream",
          "name": "stdout",
          "text": [
            "[]\n"
          ]
        }
      ]
    },
    {
      "cell_type": "code",
      "source": [
        "#27:\n",
        "list=[2,3,5,7,9]\n",
        "del list[:]\n",
        "print(list)\n"
      ],
      "metadata": {
        "id": "D-54eXyH5IP-"
      },
      "execution_count": null,
      "outputs": []
    },
    {
      "cell_type": "code",
      "source": [
        "#28:            \"remove duplicated using casting in to set\"\n",
        "\n",
        "lista = [1, 2, 2, 3, 4, 4, 5]\n",
        "lista= list(set(lista))\n",
        "print(lista)\n"
      ],
      "metadata": {
        "colab": {
          "base_uri": "https://localhost:8080/"
        },
        "id": "q92yeUQM5QVK",
        "outputId": "ae96aaf3-1e01-4d24-b383-0849031d693b"
      },
      "execution_count": null,
      "outputs": [
        {
          "output_type": "stream",
          "name": "stdout",
          "text": [
            "[1, 2, 3, 4, 5]\n"
          ]
        }
      ]
    },
    {
      "cell_type": "code",
      "source": [
        "#29:\n"
      ],
      "metadata": {
        "id": "tbFMl-RX7cLx"
      },
      "execution_count": null,
      "outputs": []
    },
    {
      "cell_type": "code",
      "source": [
        "#30:\n",
        "my_list = [1, 2, 2, 3, 4, 4, 5]\n",
        "unique_count = len(set(my_list))\n",
        "print(\"Unique count:\", unique_count)"
      ],
      "metadata": {
        "colab": {
          "base_uri": "https://localhost:8080/"
        },
        "id": "ayTljx288kIz",
        "outputId": "5b64de99-6fe3-4539-c405-7b39cb7af428"
      },
      "execution_count": null,
      "outputs": [
        {
          "output_type": "stream",
          "name": "stdout",
          "text": [
            "Unique count: 5\n"
          ]
        }
      ]
    },
    {
      "cell_type": "code",
      "source": [
        "#31:Frequency greater than K\n"
      ],
      "metadata": {
        "id": "GwTlGcFS8vol"
      },
      "execution_count": null,
      "outputs": []
    },
    {
      "cell_type": "code",
      "source": [
        "#32: Strongest Neighbour"
      ],
      "metadata": {
        "id": "MIsxjMrd9eJw"
      },
      "execution_count": null,
      "outputs": []
    },
    {
      "cell_type": "code",
      "source": [
        "#33:/// Combinations in the list\n",
        "\n",
        "a, b, c = input().split()\n",
        "print(a+b+c)\n",
        "print(a+c+b)\n",
        "print(b+a+c)\n",
        "print(b+c+a)\n",
        "print(c+a+b)\n",
        "print(c+b+a)"
      ],
      "metadata": {
        "colab": {
          "base_uri": "https://localhost:8080/"
        },
        "id": "K4Vyl75s_Y7d",
        "outputId": "15720512-8051-47f1-e52c-3b8c8138f2e9"
      },
      "execution_count": null,
      "outputs": [
        {
          "output_type": "stream",
          "name": "stdout",
          "text": [
            "1 2 3\n",
            "123\n",
            "132\n",
            "213\n",
            "231\n",
            "312\n",
            "321\n"
          ]
        }
      ]
    },
    {
      "cell_type": "code",
      "source": [
        "#34: Combinations in the list\n",
        "test_list = [1, 2, 3]\n",
        "\n",
        "print([test_list[0]])\n",
        "print([test_list[0], test_list[1]])\n",
        "print([test_list[0], test_list[1], test_list[2]])\n",
        "print([test_list[1]])\n",
        "print([test_list[1], test_list[2]])\n",
        "print([test_list[2]])"
      ],
      "metadata": {
        "colab": {
          "base_uri": "https://localhost:8080/"
        },
        "id": "SSAt9nRU_77Z",
        "outputId": "e142f8e7-1d63-41fe-8b92-29a46471566c"
      },
      "execution_count": null,
      "outputs": [
        {
          "output_type": "stream",
          "name": "stdout",
          "text": [
            "[1]\n",
            "[1, 2]\n",
            "[1, 2, 3]\n",
            "[2]\n",
            "[2, 3]\n",
            "[3]\n"
          ]
        }
      ]
    },
    {
      "cell_type": "code",
      "source": [
        "#35:\n"
      ],
      "metadata": {
        "id": "mowAldoyBQvA"
      },
      "execution_count": null,
      "outputs": []
    },
    {
      "cell_type": "code",
      "source": [
        "#36:///  \"important\"      \"filter and lampada\"\n",
        "\n",
        "lst = [1, 1, 2, 3, 4, 5, 1, 2, 1]\n",
        "print(list(filter(lambda x: x != 1, lst)))"
      ],
      "metadata": {
        "colab": {
          "base_uri": "https://localhost:8080/"
        },
        "id": "t9ig8-jo5Kvy",
        "outputId": "ff10f7a9-adc6-4268-b0cf-9ebc124ad20e"
      },
      "execution_count": null,
      "outputs": [
        {
          "output_type": "stream",
          "name": "stdout",
          "text": [
            "[2, 3, 4, 5, 2]\n"
          ]
        }
      ]
    },
    {
      "cell_type": "code",
      "source": [
        "#37:///\" very important\"\n",
        "\n",
        "list1 = ['Gfg', 'is', 'best']\n",
        "list2 = [0, 1, 2, 1, 0, 0, 0, 2, 1, 1, 2, 0]\n",
        "print([list1[i] for i in list2])"
      ],
      "metadata": {
        "colab": {
          "base_uri": "https://localhost:8080/"
        },
        "id": "V4v6J8ot5n3e",
        "outputId": "874df523-b193-491c-c0a1-2bea5639d5f3"
      },
      "execution_count": null,
      "outputs": [
        {
          "output_type": "stream",
          "name": "stdout",
          "text": [
            "['Gfg', 'is', 'best', 'is', 'Gfg', 'Gfg', 'Gfg', 'best', 'is', 'is', 'best', 'Gfg']\n"
          ]
        }
      ]
    },
    {
      "cell_type": "code",
      "source": [
        "#38:   \"GPt\"                                               \"\"dont clear !!\"\"\"\n",
        "\n",
        "test_list = [(4, 5, 5, 4), (5, 4, 3)]\n",
        "K = 5\n",
        "N = 2\n",
        "\n",
        "result = []\n",
        "for tup in test_list:\n",
        "    if tup.count(K) == N:\n",
        "        result.append(tup)\n",
        "\n",
        "print(result)"
      ],
      "metadata": {
        "id": "kUswniz17fFt"
      },
      "execution_count": null,
      "outputs": []
    },
    {
      "cell_type": "code",
      "source": [
        "#39://      \"sorted by sorted and lampada functions\"\n",
        "\n",
        "\n",
        "array = [[1, 3, 3], [2, 1, 2], [3, 2, 1]]\n",
        "print(\"Sorted array specific to column 0:\",sorted(array , key=lambda x:x[0] ))\n",
        "print(\"Sorted array specific to column 1:\", sorted(array, key=lambda x: x[1]))\n",
        "print(\"Sorted array specific to column 2:\",sorted(array , key=lambda x:x[2]))\n"
      ],
      "metadata": {
        "colab": {
          "base_uri": "https://localhost:8080/"
        },
        "id": "bFwxqByb8yrk",
        "outputId": "32be634b-6558-4c7a-ade1-7e27cce60e8d"
      },
      "execution_count": null,
      "outputs": [
        {
          "output_type": "stream",
          "name": "stdout",
          "text": [
            "Sorted array specific to column 0: [[1, 3, 3], [2, 1, 2], [3, 2, 1]]\n",
            "Sorted array specific to column 1: [[2, 1, 2], [3, 2, 1], [1, 3, 3]]\n",
            "Sorted array specific to column 2: [[3, 2, 1], [2, 1, 2], [1, 3, 3]]\n"
          ]
        }
      ]
    },
    {
      "cell_type": "code",
      "source": [
        "#40:  \"sorted dic by key or value\"\n",
        "\n",
        "my_dict = {'ravi': 10, 'rajnish': 9, 'sanjeev': 15, 'yash': 2, 'suraj': 32}\n",
        "print(sorted(my_dict))    #by key\n",
        "print(sorted(my_dict, key=my_dict.get))  #by value"
      ],
      "metadata": {
        "colab": {
          "base_uri": "https://localhost:8080/"
        },
        "id": "Er699_lh_-1u",
        "outputId": "643c6da6-db44-4adb-9c03-fda6d8b5f9cc"
      },
      "execution_count": null,
      "outputs": [
        {
          "output_type": "stream",
          "name": "stdout",
          "text": [
            "['rajnish', 'ravi', 'sanjeev', 'suraj', 'yash']\n",
            "['yash', 'rajnish', 'ravi', 'sanjeev', 'suraj']\n"
          ]
        }
      ]
    },
    {
      "cell_type": "code",
      "source": [
        "41:\n"
      ],
      "metadata": {
        "id": "PKV2UHadBjGH"
      },
      "execution_count": null,
      "outputs": []
    },
    {
      "cell_type": "code",
      "source": [
        "#42/:\n",
        "dic1 = {1: 10, 2: 20}\n",
        "dic2 = {3: 30, 4: 40}\n",
        "dic3 = {5: 50, 6: 60}\n",
        "result = {}\n",
        "for i in (dic1, dic2, dic3):\n",
        "    result.update(i)\n",
        "\n",
        "print(result)"
      ],
      "metadata": {
        "colab": {
          "base_uri": "https://localhost:8080/"
        },
        "id": "4i3PLgepzC-J",
        "outputId": "1f467819-0049-454c-ddeb-697d91d7cc02"
      },
      "execution_count": null,
      "outputs": [
        {
          "output_type": "stream",
          "name": "stdout",
          "text": [
            "{1: 10, 2: 20, 3: 30, 4: 40, 5: 50, 6: 60}\n"
          ]
        }
      ]
    },
    {
      "cell_type": "code",
      "source": [
        "#43:\n",
        "my_dict = {'a': 1, 'b': 2, 'c': 3}\n",
        "\n",
        "for key in my_dict:\n",
        "    print(key, my_dict[key])"
      ],
      "metadata": {
        "colab": {
          "base_uri": "https://localhost:8080/"
        },
        "id": "dot-BrQDzQoa",
        "outputId": "1ed7a706-1356-4fa2-bd34-2a443c396729"
      },
      "execution_count": null,
      "outputs": [
        {
          "output_type": "stream",
          "name": "stdout",
          "text": [
            "a 1\n",
            "b 2\n",
            "c 3\n"
          ]
        }
      ]
    },
    {
      "cell_type": "code",
      "source": [
        "#44:\n",
        "dict1 = {'a': 1, 'b': 2}\n",
        "dict2 = {'c': 3, 'd': 4}\n",
        "\n",
        "dict1.update(dict2)\n",
        "\n",
        "print(dict1)"
      ],
      "metadata": {
        "colab": {
          "base_uri": "https://localhost:8080/"
        },
        "id": "ExfAO1SQzz2Z",
        "outputId": "8d281fd5-19af-4949-e809-adaddc0c6939"
      },
      "execution_count": null,
      "outputs": [
        {
          "output_type": "stream",
          "name": "stdout",
          "text": [
            "{'a': 1, 'b': 2, 'c': 3, 'd': 4}\n"
          ]
        }
      ]
    },
    {
      "cell_type": "code",
      "source": [
        "#45:\n",
        "my_dict = {'a': 5, 'b': 12, 'c': 3, 'd': 8}\n",
        "\n",
        "print(\"Maximum Value:\", max(my_dict.values()))\n",
        "print(\"Minimum Value:\", min(my_dict.values()))"
      ],
      "metadata": {
        "colab": {
          "base_uri": "https://localhost:8080/"
        },
        "id": "JTeDG7q_0LrT",
        "outputId": "e5b8406c-973d-4fce-ba55-c259a6adec10"
      },
      "execution_count": null,
      "outputs": [
        {
          "output_type": "stream",
          "name": "stdout",
          "text": [
            "Maximum Value: 12\n",
            "Minimum Value: 3\n"
          ]
        }
      ]
    },
    {
      "cell_type": "code",
      "source": [
        "#46:\"بشيل العناصر الفاضيه او اللي قيمتها none\"      \"important\"\n",
        "my_dict = {'c1': 'Red', 'c2': 'Green', 'c3': None}\n",
        "my_dict = dict(filter(lambda item: item[1] is not None, my_dict.items()))\n",
        "print(my_dict)\n"
      ],
      "metadata": {
        "colab": {
          "base_uri": "https://localhost:8080/"
        },
        "id": "sBZT5jWu0dO8",
        "outputId": "e14b5cbb-8137-4196-e489-c152d99437b1"
      },
      "execution_count": null,
      "outputs": [
        {
          "output_type": "stream",
          "name": "stdout",
          "text": [
            "{'c1': 'Red', 'c2': 'Green'}\n"
          ]
        }
      ]
    },
    {
      "cell_type": "code",
      "source": [
        "#47:\n",
        "t=(2,3,6,9)\n",
        "print(t[1])"
      ],
      "metadata": {
        "colab": {
          "base_uri": "https://localhost:8080/"
        },
        "id": "3H0N5fWM082q",
        "outputId": "130f769d-f8bd-48a9-e81e-c17df988efe3"
      },
      "execution_count": null,
      "outputs": [
        {
          "output_type": "stream",
          "name": "stdout",
          "text": [
            "3\n"
          ]
        }
      ]
    },
    {
      "cell_type": "code",
      "source": [
        "#48:\" بيخلي كل قيمة في التوبل تروح للمتغير الخاص بيها. unpacking\"\n",
        "my_tuple = (10, 20, 30)\n",
        "a, b, c = my_tuple\n",
        "print(a, b, c)\n"
      ],
      "metadata": {
        "colab": {
          "base_uri": "https://localhost:8080/"
        },
        "id": "2Bodp7YZ1WZ8",
        "outputId": "6423cbe1-ecd0-4b1c-a039-2a7f14ca6b2f"
      },
      "execution_count": null,
      "outputs": [
        {
          "output_type": "stream",
          "name": "stdout",
          "text": [
            "10 20 30\n"
          ]
        }
      ]
    },
    {
      "cell_type": "code",
      "source": [
        "#49:\"add to tuple     convert to list\"\n",
        "my_tuple = (1, 2, 3)\n",
        "temp_list = list(my_tuple)\n",
        "temp_list.append(4)\n",
        "my_tuple = tuple(temp_list)\n",
        "print(my_tuple)"
      ],
      "metadata": {
        "colab": {
          "base_uri": "https://localhost:8080/"
        },
        "id": "xUnG1efW10z5",
        "outputId": "27ec049f-d907-4ac9-f7d0-06927df0dd99"
      },
      "execution_count": null,
      "outputs": [
        {
          "output_type": "stream",
          "name": "stdout",
          "text": [
            "(1, 2, 3, 4)\n"
          ]
        }
      ]
    },
    {
      "cell_type": "code",
      "source": [
        "#50///:\"tuple to string \"(join func)\n",
        "my_tuple = ('H', 'e', 'l', 'l', 'o')\n",
        "my_string = ''.join(my_tuple)\n",
        "print(my_string)\n"
      ],
      "metadata": {
        "colab": {
          "base_uri": "https://localhost:8080/"
        },
        "id": "cWsRu84x2ZL1",
        "outputId": "4a6185f4-6402-48e9-8a66-fec9c8437cf8"
      },
      "execution_count": null,
      "outputs": [
        {
          "output_type": "stream",
          "name": "stdout",
          "text": [
            "Hello\n"
          ]
        }
      ]
    },
    {
      "cell_type": "code",
      "source": [
        "#51:\n",
        "my_list = [1, 2, 3, 4]\n",
        "my_tuple = tuple(my_list)\n",
        "print(my_tuple)"
      ],
      "metadata": {
        "colab": {
          "base_uri": "https://localhost:8080/"
        },
        "id": "VBBEzISr2477",
        "outputId": "8355b9cd-d856-4be9-b7da-bfba4bffc6e6"
      },
      "execution_count": null,
      "outputs": [
        {
          "output_type": "stream",
          "name": "stdout",
          "text": [
            "(1, 2, 3, 4)\n"
          ]
        }
      ]
    },
    {
      "cell_type": "code",
      "source": [
        "#52:\n",
        "my_tuple = (1, 2, 3, 4)\n",
        "reversed_tuple = my_tuple[::-1]\n",
        "print(reversed_tuple)"
      ],
      "metadata": {
        "colab": {
          "base_uri": "https://localhost:8080/"
        },
        "id": "qpL1s56R3H_s",
        "outputId": "1d76f415-5b01-44c7-ed63-e15ea928a617"
      },
      "execution_count": null,
      "outputs": [
        {
          "output_type": "stream",
          "name": "stdout",
          "text": [
            "(4, 3, 2, 1)\n"
          ]
        }
      ]
    },
    {
      "cell_type": "code",
      "source": [
        "#53:\n"
      ],
      "metadata": {
        "id": "pXO_hBwE3XIw"
      },
      "execution_count": null,
      "outputs": []
    },
    {
      "cell_type": "code",
      "source": [
        "#54:\"string to tuple and print tuple\"\n",
        "my_string = \"python 3.0\"\n",
        "my_tuple = tuple(my_string)\n",
        "print(\"Original string:\", my_string)\n",
        "print(\"Convert the said string to a tuple:\", my_tuple)"
      ],
      "metadata": {
        "colab": {
          "base_uri": "https://localhost:8080/"
        },
        "id": "sGzKOZVI3546",
        "outputId": "41c90599-ba2e-4835-f86b-8d569ad0af36"
      },
      "execution_count": null,
      "outputs": [
        {
          "output_type": "stream",
          "name": "stdout",
          "text": [
            "Original string: python 3.0\n",
            "Convert the said string to a tuple: ('p', 'y', 't', 'h', 'o', 'n', ' ', '3', '.', '0')\n"
          ]
        }
      ]
    },
    {
      "cell_type": "code",
      "source": [
        "#55:\n"
      ],
      "metadata": {
        "id": "fa7PZa8U4ftQ"
      },
      "execution_count": null,
      "outputs": []
    },
    {
      "cell_type": "code",
      "source": [
        "#56:\n",
        "set = {1, 2, 3}\n",
        "set.add(4)\n",
        "set.update([5, 6, 7])\n",
        "print(\"Updated set:\", set)"
      ],
      "metadata": {
        "colab": {
          "base_uri": "https://localhost:8080/"
        },
        "id": "JLvXayP76mdY",
        "outputId": "0f559848-b44b-4012-c83b-6c3a18ee9ed6"
      },
      "execution_count": null,
      "outputs": [
        {
          "output_type": "stream",
          "name": "stdout",
          "text": [
            "Updated set: {1, 2, 3, 4, 5, 6, 7}\n"
          ]
        }
      ]
    },
    {
      "cell_type": "code",
      "source": [
        "#57:\n",
        "set = {1, 2, 3, 4, 5}\n",
        "set.remove(3)\n",
        "print(set)"
      ],
      "metadata": {
        "colab": {
          "base_uri": "https://localhost:8080/"
        },
        "id": "TuLIrb3F7Huf",
        "outputId": "5fe529dd-5a66-4e9c-bacb-78e38f655658"
      },
      "execution_count": null,
      "outputs": [
        {
          "output_type": "stream",
          "name": "stdout",
          "text": [
            "{1, 2, 4, 5}\n"
          ]
        }
      ]
    },
    {
      "cell_type": "code",
      "source": [
        "#58:\n",
        "set1 = {1, 2, 3, 4}\n",
        "set2 = {3, 4, 5, 6}\n",
        "intersection = set1 & set2\n",
        "union = set1 | set2\n",
        "difference = set1 - set2\n",
        "symmetric_difference = set1 ^ set2\n",
        "print(\"Intersection:\", intersection)\n",
        "print(\"Union:\", union)\n",
        "print(\"Difference:\", difference)\n",
        "print(\"Symmetric Difference:\", symmetric_difference)"
      ],
      "metadata": {
        "colab": {
          "base_uri": "https://localhost:8080/"
        },
        "id": "nlvAvtIx7kFa",
        "outputId": "9315ce25-9f0d-4a9c-ab34-40bbf08951e9"
      },
      "execution_count": null,
      "outputs": [
        {
          "output_type": "stream",
          "name": "stdout",
          "text": [
            "Intersection: {3, 4}\n",
            "Union: {1, 2, 3, 4, 5, 6}\n",
            "Difference: {1, 2}\n",
            "Symmetric Difference: {1, 2, 5, 6}\n"
          ]
        }
      ]
    },
    {
      "cell_type": "code",
      "source": [
        "#59:\n",
        "my_set = {10, 20, 30, 40, 50}\n",
        "max_value = max(my_set)\n",
        "min_value = min(my_set)\n",
        "print(\"Maximum value:\", max_value)\n",
        "print(\"Minimum value:\", min_value)"
      ],
      "metadata": {
        "colab": {
          "base_uri": "https://localhost:8080/"
        },
        "id": "9XysHnVN78uM",
        "outputId": "011d3783-9918-4972-832a-c516b591c3ff"
      },
      "execution_count": null,
      "outputs": [
        {
          "output_type": "stream",
          "name": "stdout",
          "text": [
            "Maximum value: 50\n",
            "Minimum value: 10\n"
          ]
        }
      ]
    },
    {
      "cell_type": "code",
      "source": [
        "#60:\n"
      ],
      "metadata": {
        "id": "zSpacMqI8MR7"
      },
      "execution_count": null,
      "outputs": []
    }
  ]
}